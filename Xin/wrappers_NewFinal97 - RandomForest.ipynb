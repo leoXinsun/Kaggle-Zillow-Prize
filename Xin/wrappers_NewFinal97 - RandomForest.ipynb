{
 "cells": [
  {
   "cell_type": "code",
   "execution_count": 1,
   "metadata": {
    "collapsed": true
   },
   "outputs": [],
   "source": [
    "import pandas as pd\n",
    "import numpy as np\n",
    "import matplotlib.pyplot as plt\n",
    "train = pd.read_csv('NewFinal97.csv')"
   ]
  },
  {
   "cell_type": "code",
   "execution_count": 2,
   "metadata": {
    "collapsed": true,
    "scrolled": true
   },
   "outputs": [],
   "source": [
    "#train"
   ]
  },
  {
   "cell_type": "code",
   "execution_count": 3,
   "metadata": {
    "collapsed": true
   },
   "outputs": [],
   "source": [
    "train_ = train.drop(['logerror','logerrorLabel','Unnamed: 0'],1)\n",
    "#train_ "
   ]
  },
  {
   "cell_type": "code",
   "execution_count": 4,
   "metadata": {},
   "outputs": [
    {
     "name": "stdout",
     "output_type": "stream",
     "text": [
      "0.00897329759852\n"
     ]
    }
   ],
   "source": [
    "from sklearn.ensemble import RandomForestRegressor\n",
    "from sklearn.model_selection import cross_val_predict\n",
    "from sklearn import metrics\n",
    "\n",
    "X = train_.values\n",
    "Y = train[\"logerror\"]\n",
    "\n",
    "model = RandomForestRegressor()\n",
    "\n",
    "\n",
    "F= train_.columns\n",
    "f = len(F)\n",
    "\n",
    "predicted0 = cross_val_predict(model, X, Y, cv=3)\n",
    "score0 = metrics.mean_squared_error(Y, predicted0)\n",
    "score = score0\n",
    "print(score)"
   ]
  },
  {
   "cell_type": "markdown",
   "metadata": {},
   "source": [
    "# Wrappers - backward selection\n",
    "In backward selection, one starts with the set of all variables and progressively eliminates the least promising ones."
   ]
  },
  {
   "cell_type": "code",
   "execution_count": 5,
   "metadata": {
    "scrolled": true
   },
   "outputs": [
    {
     "name": "stdout",
     "output_type": "stream",
     "text": [
      "0.00892190122515\n",
      "Index(['parcelid', 'airconditioningtypeid', 'bathroomcnt', 'bedroomcnt',\n",
      "       'buildingqualitytypeid', 'calculatedbathnbr',\n",
      "       'finishedfloor1squarefeet', 'calculatedfinishedsquarefeet',\n",
      "       'finishedsquarefeet12', 'finishedsquarefeet15', 'finishedsquarefeet50',\n",
      "       'fips', 'fireplacecnt', 'fullbathcnt', 'garagecarcnt',\n",
      "       'garagetotalsqft', 'heatingorsystemtypeid', 'latitude',\n",
      "       'lotsizesquarefeet', 'poolcnt', 'pooltypeid7',\n",
      "       'propertycountylandusecode', 'propertylandusetypeid',\n",
      "       'propertyzoningdesc', 'regionidcounty', 'regionidneighborhood',\n",
      "       'regionidzip', 'roomcnt', 'threequarterbathnbr', 'unitcnt',\n",
      "       'yardbuildingsqft17', 'yearbuilt', 'numberofstories',\n",
      "       'structuretaxvaluedollarcnt', 'taxvaluedollarcnt', 'assessmentyear',\n",
      "       'landtaxvaluedollarcnt', 'taxamount', 'taxdelinquencyyear',\n",
      "       'censustractandblock', 'year0', 'year1', '01', '02', '03', '04', '05',\n",
      "       '06', '07', '08', '09', '10', '11', '12'],\n",
      "      dtype='object')\n"
     ]
    }
   ],
   "source": [
    "for i in range(f):\n",
    "    # find which feature make the value of the evaluation function is optimal when remove this feature\n",
    "    for j in range(len(F)):  \n",
    "        train_1 = train_.drop([F[j]],1, inplace = False)\n",
    "        X1 = train_1.values \n",
    "        predicted1 = cross_val_predict(model, X1, Y, cv=3)\n",
    "        score1 = metrics.mean_squared_error(Y, predicted1)\n",
    "        if score1 < score:\n",
    "            score = score1\n",
    "            k = j\n",
    "    # remove this feature\n",
    "    if score0 != score:         \n",
    "        train_ = train_.drop([F[k]],1)\n",
    "        F = F.drop(F[k],1)\n",
    "        score0 = score\n",
    "    # when we remove anyone feature, the value of the evaluation function cannot be better , we get the best feature\n",
    "    else:\n",
    "        print(score)\n",
    "        break\n",
    "print(F)              "
   ]
  },
  {
   "cell_type": "markdown",
   "metadata": {
    "collapsed": true
   },
   "source": [
    "As we can see here, the best subset of features is \n",
    "\n",
    "['parcelid', 'airconditioningtypeid', 'bathroomcnt', 'bedroomcnt','buildingqualitytypeid', 'calculatedbathnbr','finishedfloor1squarefeet', 'calculatedfinishedsquarefeet',\n",
    "'finishedsquarefeet12', 'finishedsquarefeet15', 'finishedsquarefeet50','fips', 'fireplacecnt', 'fullbathcnt', 'garagecarcnt',\n",
    "'garagetotalsqft', 'heatingorsystemtypeid', 'latitude','lotsizesquarefeet', 'poolcnt', 'pooltypeid7','propertycountylandusecode', 'propertylandusetypeid',\n",
    "'propertyzoningdesc', 'regionidcounty', 'regionidneighborhood','regionidzip', 'roomcnt', 'threequarterbathnbr', 'unitcnt',\n",
    "'yardbuildingsqft17', 'yearbuilt', 'numberofstories','structuretaxvaluedollarcnt', 'taxvaluedollarcnt', 'assessmentyear',\n",
    "'landtaxvaluedollarcnt', 'taxamount', 'taxdelinquencyyear', 'censustractandblock', 'year0', 'year1', '01', '02', '03', '04', '05',\n",
    "'06', '07', '08', '09', '10', '11', '12']"
   ]
  },
  {
   "cell_type": "code",
   "execution_count": null,
   "metadata": {
    "collapsed": true
   },
   "outputs": [],
   "source": []
  }
 ],
 "metadata": {
  "kernelspec": {
   "display_name": "Python 3",
   "language": "python",
   "name": "python3"
  },
  "language_info": {
   "codemirror_mode": {
    "name": "ipython",
    "version": 3
   },
   "file_extension": ".py",
   "mimetype": "text/x-python",
   "name": "python",
   "nbconvert_exporter": "python",
   "pygments_lexer": "ipython3",
   "version": "3.6.1"
  }
 },
 "nbformat": 4,
 "nbformat_minor": 2
}
